{
  "nbformat": 4,
  "nbformat_minor": 0,
  "metadata": {
    "colab": {
      "name": "MY FIRST NOTE BOOK",
      "provenance": [],
      "authorship_tag": "ABX9TyO2TDSjaKM58JaBpYezE2kd",
      "include_colab_link": true
    },
    "kernelspec": {
      "name": "python3",
      "display_name": "Python 3"
    },
    "language_info": {
      "name": "python"
    }
  },
  "cells": [
    {
      "cell_type": "markdown",
      "metadata": {
        "id": "view-in-github",
        "colab_type": "text"
      },
      "source": [
        "<a href=\"https://colab.research.google.com/github/karthaik3087/Basic-ML/blob/main/MY_FIRST_NOTE_BOOK.ipynb\" target=\"_parent\"><img src=\"https://colab.research.google.com/assets/colab-badge.svg\" alt=\"Open In Colab\"/></a>"
      ]
    },
    {
      "cell_type": "markdown",
      "metadata": {
        "id": "wFSX_IkAWvCN"
      },
      "source": [
        "PYTHON PROJECT EVEN OR ODD"
      ]
    },
    {
      "cell_type": "code",
      "metadata": {
        "id": "2aWDdMEkW55b"
      },
      "source": [
        "N=int(input())\n",
        "if (N%2==0):\n",
        "   print(\" Even\")\n",
        "else:\n",
        "   print (\" Odd\")\n",
        "   "
      ],
      "execution_count": null,
      "outputs": []
    },
    {
      "cell_type": "markdown",
      "metadata": {
        "id": "W3zdJsM_YfMD"
      },
      "source": [
        "PYTHON PROGRAM FOR FINDING TWO NUMBER"
      ]
    },
    {
      "cell_type": "code",
      "metadata": {
        "id": "CohIBMRiYwqp"
      },
      "source": [
        "a=int(input(\"enter a:\")) \n",
        "b=int(input(\"enter b:\")) \n",
        "if (a>b):\n",
        "   print(\"max is a\")\n",
        "else:\n",
        "   print(\"max is b\")"
      ],
      "execution_count": null,
      "outputs": []
    },
    {
      "cell_type": "markdown",
      "metadata": {
        "id": "lN8KS01JZsGG"
      },
      "source": [
        "PHTHON PROGARM FOR FINDING FACTORAL"
      ]
    },
    {
      "cell_type": "code",
      "metadata": {
        "id": "DlGCUnOjaBH5"
      },
      "source": [
        "y=int(input(\"enter a number:\")) \n",
        "if (y%4==0 and y%100!=0) or (y%400==0):\n",
        "   print(\"leap year\") \n",
        "else: \n",
        "   print(\"non leap year\")"
      ],
      "execution_count": null,
      "outputs": []
    },
    {
      "cell_type": "markdown",
      "metadata": {
        "id": "OSaiaLAvaqcV"
      },
      "source": [
        "PYTHON PROGRAM FOR FINTING LIPR AND NONLIPE "
      ]
    }
  ]
}